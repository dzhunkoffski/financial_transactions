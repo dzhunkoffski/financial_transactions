{
 "cells": [
  {
   "cell_type": "markdown",
   "id": "17630265",
   "metadata": {},
   "source": []
  }
 ],
 "metadata": {
  "language_info": {
   "name": "python"
  }
 },
 "nbformat": 4,
 "nbformat_minor": 5
}
